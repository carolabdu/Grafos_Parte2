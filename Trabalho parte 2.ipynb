{
 "cells": [
  {
   "cell_type": "code",
   "execution_count": 10,
   "metadata": {},
   "outputs": [
    {
     "name": "stdout",
     "output_type": "stream",
     "text": [
      "[[1, 6, 2.0], [4, 8, 1.0], [2, 3, 4.0], [1, 3, 10.0], [7, 9, 3.0], [5, 10, 2.2], [10, 2, 4.3], [5, 7, 9.0], [9, 3, 5.0], [3, 5, 22.0], [1, 7, 1.5], [10, 4, 4.0]]\n"
     ]
    }
   ],
   "source": [
    "with open('teste.txt', 'r') as arquivo:\n",
    "        texto = [vertice for vertice in arquivo.read().split()  ] #Cria uma lista com o conteúdo presente no arquivo de teste\n",
    "        vertices = int(texto[0]) #Pega o primeiro elemento da lista acima, que correnspode ao número de vértices do grafo\n",
    "        arestas = [] #Lista vazia que vai conter todos os pares de arestas do grafo\n",
    "        for i in range(len(texto[1:])//3):\n",
    "            arestas += [[int(texto[3*i+1])]+[int(texto[3*i+2])]+ [float(texto[3*i+3])]] #Atualiza a lista de arestas, criando sublistas com os pares de arestas\n",
    "\n",
    "print(arestas)\n",
    "\n",
    "#arquivo_saida = open('Resultados.txt', 'a') #Cria um arquivo de saída que guardará informações sobre os grafos"
   ]
  },
  {
   "cell_type": "code",
   "execution_count": 53,
   "metadata": {},
   "outputs": [],
   "source": [
    "import numpy as np\n",
    "import heapq\n",
    "from collections import defaultdict\n",
    "\n",
    "\n",
    "class Graph_l:   \n",
    "    def __init__(self, v, a): #(número de vértices, arestas)\n",
    "        self.aqruivo_saida = [] #Lista que vai receber os resultados desejados\n",
    "        self.v = v\n",
    "        self.a = a\n",
    "        self.num_arestas = len(self.a) \n",
    "        self.neg = False\n",
    "        self.lista = [[] for i in range(self.v)] #Não sabemos quantos elementos tem em cada linha (quantos vizinhos cada vértice tem)\n",
    "        self.pesos = [[] for i in range(self.v)]  #lista que contém apenas os pesos \n",
    "        g = np.zeros(self.v,dtype=int) #Vetor de zeros, onde vamos guardar o grau de cada vértice\n",
    "        for i in range(self.num_arestas):\n",
    "            u=self.a[i][0] #Pega o primeiro vértice do par de arestas\n",
    "            v= self.a[i][1] #Pega o segundo vértice do par de arestas\n",
    "            p= self.a[i][2] #Pega o peso da aresta\n",
    "            if p < 0: self.neg = True\n",
    "            self.lista[u-1]+= [(v,p)] #Adiciona o vértice v na linha u (o índice é u-1, pois i se inicia no 0)\n",
    "            self.lista[v-1]+= [(u, p)] #Adiciona o vértice u na linha v\n",
    "            self.pesos[u-1]+= [p]\n",
    "            self.pesos[v-1] += [p]\n",
    "            g [u-1] += 1  #Atualiza os graus \n",
    "            g [v-1] += 1\n",
    "        self.graus = g\n",
    "\n",
    "\n",
    "    def mostra_lista(self): #Retorna a lista de adjacência\n",
    "        return self.lista \n",
    "    \n",
    "    def Dijkstra(self,vi, p):\n",
    "        if self.neg == True:\n",
    "            d = 'Não é possível'\n",
    "            if p ==1: \n",
    "                print(f'\\nDijkstra a partir de {vi} : d ')\n",
    "        else:  \n",
    "            pai = np.array([-1] * self.v, dtype = int) #inicia vetor com os pais\n",
    "            nivel = np.array([-1] * self.v, dtype = int) #inicia vetor dos níveis\n",
    "            S = np.zeros(self.v) #Definir S como vazio\n",
    "            len_S = 0 #variável auxiliar para não ter que verificar a cada iteração a lista S\n",
    "            dist = np.full(self.v, np.inf) #distâncias começam infinitas\n",
    "            dist_aux = np.full(self.v, np.inf)\n",
    "            dist_aux[vi-1]=0 \n",
    "            pai [vi-1] = 0\n",
    "            nivel [vi-1] = 0 \n",
    "            while len_S != self.v : #Enquanto S != V\n",
    "                p_u = np.min(dist_aux) #Selecione u em V-S, tal que dist[u] é mínima\n",
    "                u = np.argmin(dist_aux) #u que tem a distância mínima\n",
    "                if p_u == np.inf :   #grafo não é conexo\n",
    "                    break\n",
    "                dist[u]=dist_aux[u]\n",
    "                dist_aux[u]= np.inf  #usado para que não alteremos mais a distância de quem já foi adicionado a S\n",
    "                S[u]= 1 #Adicione u em S\n",
    "                len_S += 1 \n",
    "                for viz in range(len(self.lista[u])): #Para cada vizinho de u faça\n",
    "                    v = self.lista[u][viz][0]\n",
    "                    if S[v-1] ==0: \n",
    "                        if dist_aux[v-1] > dist[u] + self.lista[u][viz][1] :  #Se dist[v] > dist[u] + w(u,v) então\n",
    "                            dist_aux[v-1] = dist[u] + self.lista[u][viz][1] #dist[v] = dist[u] + w(u,v)\n",
    "                            pai[v-1] = u+1\n",
    "                            nivel[v-1] = nivel[u] + 1\n",
    "            d = [dist, pai, nivel]\n",
    "            if p ==1: \n",
    "                print ('Distância sem heap: ', dist)\n",
    "                #print(f'\\nDijkstra a partir de {v1} : {d[0]}, árvore (pais): {d[1]}, árvore(níveis): {d[2]} ')\n",
    "        return d\n",
    "    \n",
    "    def DijkstraHeap(self, vi,p ) :\n",
    "        if self.neg == True:\n",
    "            d = 'Não é possível'\n",
    "            if p ==1: \n",
    "                print(f'\\nDijkstra a partir de {v1} : {d} ')\n",
    "        else:\n",
    "            dist = np.full(self.v, np.inf) #define um vetor de custos/distancias e pais\n",
    "            dist[vi-1] = 0 #define a distancia do primeiro vertice como 0 e pai vi\n",
    "            h = [(0, vi)]   #pq - priority queue, adiciona o primeiro vértice no heap com distância 0\n",
    "            while len(h) > 0:\n",
    "                dist_atual, u =  heapq.heappop(h) #pega o último valor da fila de prioridade(maior dist)\n",
    "                for vizinhos in self.lista[u-1]:\n",
    "                    viz = vizinhos[0]\n",
    "                    peso = vizinhos[1]\n",
    "                    d = dist_atual + peso\n",
    "                    if d < dist[viz-1]:\n",
    "                        dist[viz-1] = d\n",
    "                        heapq.heappush(h, (d, viz))\n",
    "            if p==1 : \n",
    "                print ('Distância com heap: ', dist)\n",
    "        return dist\n",
    "    \n",
    "   \n",
    "    def caminho(self,v1,v2,p): #v1 é o vértice de partida, v2 o de chegada e p é para imprimir \n",
    "        pais = self.Dijkstra(v2, 0)[1]  #fazemos a árvore a partir de v2, para ir encontrando os pais de v1 até chegar em v2\n",
    "        caminho = [v1] #caminho começa já com o vétice de partida\n",
    "        v= v1  #começamos em v1\n",
    "        if self.Dijkstra(v2, 0)[2][v1-1] == -1: \n",
    "            caminho = \"Não há caminho, v2 e v1 não estão na mesma cc\"\n",
    "        else:\n",
    "            while v != v2: #enquanto vértice analisado não for vértice destino \n",
    "                v = pais [v-1]  #próximo vértice do caminho é o pai do que último adicionado  \n",
    "                caminho.append(v)   #adicionamos esse pai ao caminho\n",
    "        if p==1:\n",
    "            print(f'\\nCaminho entre  {v1} e {v2}: {caminho} ')\n",
    "        return caminho \n",
    "    \n",
    "    def mostra_dj (self,vi):\n",
    "        return self.Dijkstra(vi,0)\n",
    "    \n",
    "    def distancia(self, v1, v2, p): #Retorna a distâncoa entre dois vértices\n",
    "        D= self.Dijkstra(v1, 0)[0][v2-1]\n",
    "        if p ==1:\n",
    "            print (D)\n",
    "        return D\n",
    "\n"
   ]
  },
  {
   "cell_type": "code",
   "execution_count": 54,
   "metadata": {},
   "outputs": [
    {
     "name": "stdout",
     "output_type": "stream",
     "text": [
      "Distância com heap:  [ 0.  13.5  9.5 16.7 10.5  2.   1.5 17.7  4.5 12.7]\n"
     ]
    },
    {
     "data": {
      "text/plain": [
       "array([ 0. , 13.5,  9.5, 16.7, 10.5,  2. ,  1.5, 17.7,  4.5, 12.7])"
      ]
     },
     "execution_count": 54,
     "metadata": {},
     "output_type": "execute_result"
    }
   ],
   "source": [
    "Graph_l(vertices,arestas).DijkstraHeap(1,1)"
   ]
  },
  {
   "cell_type": "code",
   "execution_count": 11,
   "metadata": {},
   "outputs": [
    {
     "data": {
      "text/plain": [
       "[[(6, 2.0), (3, 10.0), (7, 1.5)],\n",
       " [(3, 4.0), (10, 4.3)],\n",
       " [(2, 4.0), (1, 10.0), (9, 5.0), (5, 22.0)],\n",
       " [(8, 1.0), (10, 4.0)],\n",
       " [(10, 2.2), (7, 9.0), (3, 22.0)],\n",
       " [(1, 2.0)],\n",
       " [(9, 3.0), (5, 9.0), (1, 1.5)],\n",
       " [(4, 1.0)],\n",
       " [(7, 3.0), (3, 5.0)],\n",
       " [(5, 2.2), (2, 4.3), (4, 4.0)]]"
      ]
     },
     "execution_count": 11,
     "metadata": {},
     "output_type": "execute_result"
    }
   ],
   "source": [
    "Graph_l(vertices, arestas).mostra_lista()"
   ]
  },
  {
   "cell_type": "code",
   "execution_count": 41,
   "metadata": {},
   "outputs": [
    {
     "name": "stdout",
     "output_type": "stream",
     "text": [
      "Distância sem heap:  [ 0.  13.5  9.5 16.7 10.5  2.   1.5 17.7  4.5 12.7]\n"
     ]
    },
    {
     "data": {
      "text/plain": [
       "[array([ 0. , 13.5,  9.5, 16.7, 10.5,  2. ,  1.5, 17.7,  4.5, 12.7]),\n",
       " array([ 0,  3,  9, 10,  7,  1,  1,  4,  7,  5]),\n",
       " array([0, 4, 3, 4, 2, 1, 1, 5, 2, 3])]"
      ]
     },
     "execution_count": 41,
     "metadata": {},
     "output_type": "execute_result"
    }
   ],
   "source": [
    "Graph_l(vertices, arestas).Dijkstra(1,1)\n",
    "\n"
   ]
  },
  {
   "cell_type": "code",
   "execution_count": 42,
   "metadata": {},
   "outputs": [
    {
     "name": "stdout",
     "output_type": "stream",
     "text": [
      "Distância com heap:  [ 0. inf inf inf inf inf inf inf inf inf]\n"
     ]
    },
    {
     "data": {
      "text/plain": [
       "array([ 0., inf, inf, inf, inf, inf, inf, inf, inf, inf])"
      ]
     },
     "execution_count": 42,
     "metadata": {},
     "output_type": "execute_result"
    }
   ],
   "source": [
    "Graph_l(vertices, arestas).DijkstraHeap(1,1)"
   ]
  },
  {
   "cell_type": "code",
   "execution_count": 3,
   "metadata": {},
   "outputs": [
    {
     "name": "stdout",
     "output_type": "stream",
     "text": [
      "\n",
      "Caminho entre  10 e 20: [10, 2038, 5094, 2875, 4746, 8892, 3578, 2502, 4627, 4252, 9853, 9285, 1034, 20] \n",
      "\n",
      "Caminho entre  10 e 30: [10, 2038, 2658, 682, 4045, 30] \n",
      "\n",
      "Caminho entre  10 e 40: [10, 2038, 2658, 682, 5941, 6759, 2195, 1223, 40] \n",
      "\n",
      "Caminho entre  10 e 50: [10, 2038, 7521, 2258, 3235, 8078, 2532, 2527, 50] \n",
      "\n",
      "Caminho entre  10 e 60: [10, 2038, 5094, 2875, 3598, 1268, 4333, 3383, 8182, 4328, 9082, 60] \n"
     ]
    },
    {
     "data": {
      "text/plain": [
       "[10, 2038, 5094, 2875, 3598, 1268, 4333, 3383, 8182, 4328, 9082, 60]"
      ]
     },
     "execution_count": 3,
     "metadata": {},
     "output_type": "execute_result"
    }
   ],
   "source": [
    "Graph_l(vertices, arestas).caminho(10,20,1)\n",
    "Graph_l(vertices, arestas).caminho(10,30,1)\n",
    "Graph_l(vertices, arestas).caminho(10,40,1)\n",
    "Graph_l(vertices, arestas).caminho(10,50,1)\n",
    "Graph_l(vertices, arestas).caminho(10,60,1)"
   ]
  }
 ],
 "metadata": {
  "kernelspec": {
   "display_name": "Python 3 (ipykernel)",
   "language": "python",
   "name": "python3"
  },
  "language_info": {
   "codemirror_mode": {
    "name": "ipython",
    "version": 3
   },
   "file_extension": ".py",
   "mimetype": "text/x-python",
   "name": "python",
   "nbconvert_exporter": "python",
   "pygments_lexer": "ipython3",
   "version": "3.9.13"
  }
 },
 "nbformat": 4,
 "nbformat_minor": 2
}
