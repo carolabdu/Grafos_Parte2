{
 "cells": [
  {
   "cell_type": "code",
   "execution_count": 10,
   "metadata": {},
   "outputs": [
    {
     "ename": "FileNotFoundError",
     "evalue": "[Errno 2] No such file or directory: 'grafo_W_1'",
     "output_type": "error",
     "traceback": [
      "\u001b[1;31m---------------------------------------------------------------------------\u001b[0m",
      "\u001b[1;31mFileNotFoundError\u001b[0m                         Traceback (most recent call last)",
      "\u001b[1;32mc:\\Users\\carol\\OneDrive\\Documentos\\UFRJ\\4 período\\Grafos\\Trabalho parte 2.ipynb Cell 1\u001b[0m line \u001b[0;36m1\n\u001b[1;32m----> <a href='vscode-notebook-cell:/c%3A/Users/carol/OneDrive/Documentos/UFRJ/4%20per%C3%ADodo/Grafos/Trabalho%20parte%202.ipynb#W0sZmlsZQ%3D%3D?line=0'>1</a>\u001b[0m \u001b[39mwith\u001b[39;00m \u001b[39mopen\u001b[39;49m(\u001b[39m'\u001b[39;49m\u001b[39mgrafo_W_1\u001b[39;49m\u001b[39m'\u001b[39;49m, \u001b[39m'\u001b[39;49m\u001b[39mr\u001b[39;49m\u001b[39m'\u001b[39;49m) \u001b[39mas\u001b[39;00m arquivo:\n\u001b[0;32m      <a href='vscode-notebook-cell:/c%3A/Users/carol/OneDrive/Documentos/UFRJ/4%20per%C3%ADodo/Grafos/Trabalho%20parte%202.ipynb#W0sZmlsZQ%3D%3D?line=1'>2</a>\u001b[0m         texto \u001b[39m=\u001b[39m [vertice \u001b[39mfor\u001b[39;00m vertice \u001b[39min\u001b[39;00m arquivo\u001b[39m.\u001b[39mread()\u001b[39m.\u001b[39msplit()  ] \u001b[39m#Cria uma lista com o conteúdo presente no arquivo de teste\u001b[39;00m\n\u001b[0;32m      <a href='vscode-notebook-cell:/c%3A/Users/carol/OneDrive/Documentos/UFRJ/4%20per%C3%ADodo/Grafos/Trabalho%20parte%202.ipynb#W0sZmlsZQ%3D%3D?line=2'>3</a>\u001b[0m         vertices \u001b[39m=\u001b[39m \u001b[39mint\u001b[39m(texto[\u001b[39m0\u001b[39m]) \u001b[39m#Pega o primeiro elemento da lista acima, que correnspode ao número de vértices do grafo\u001b[39;00m\n",
      "File \u001b[1;32m~\\AppData\\Local\\Packages\\PythonSoftwareFoundation.Python.3.10_qbz5n2kfra8p0\\LocalCache\\local-packages\\Python310\\site-packages\\IPython\\core\\interactiveshell.py:282\u001b[0m, in \u001b[0;36m_modified_open\u001b[1;34m(file, *args, **kwargs)\u001b[0m\n\u001b[0;32m    275\u001b[0m \u001b[39mif\u001b[39;00m file \u001b[39min\u001b[39;00m {\u001b[39m0\u001b[39m, \u001b[39m1\u001b[39m, \u001b[39m2\u001b[39m}:\n\u001b[0;32m    276\u001b[0m     \u001b[39mraise\u001b[39;00m \u001b[39mValueError\u001b[39;00m(\n\u001b[0;32m    277\u001b[0m         \u001b[39mf\u001b[39m\u001b[39m\"\u001b[39m\u001b[39mIPython won\u001b[39m\u001b[39m'\u001b[39m\u001b[39mt let you open fd=\u001b[39m\u001b[39m{\u001b[39;00mfile\u001b[39m}\u001b[39;00m\u001b[39m by default \u001b[39m\u001b[39m\"\u001b[39m\n\u001b[0;32m    278\u001b[0m         \u001b[39m\"\u001b[39m\u001b[39mas it is likely to crash IPython. If you know what you are doing, \u001b[39m\u001b[39m\"\u001b[39m\n\u001b[0;32m    279\u001b[0m         \u001b[39m\"\u001b[39m\u001b[39myou can use builtins\u001b[39m\u001b[39m'\u001b[39m\u001b[39m open.\u001b[39m\u001b[39m\"\u001b[39m\n\u001b[0;32m    280\u001b[0m     )\n\u001b[1;32m--> 282\u001b[0m \u001b[39mreturn\u001b[39;00m io_open(file, \u001b[39m*\u001b[39margs, \u001b[39m*\u001b[39m\u001b[39m*\u001b[39mkwargs)\n",
      "\u001b[1;31mFileNotFoundError\u001b[0m: [Errno 2] No such file or directory: 'grafo_W_1'"
     ]
    }
   ],
   "source": [
    "with open('grafo_W_1', 'r') as arquivo:\n",
    "        texto = [vertice for vertice in arquivo.read().split()  ] #Cria uma lista com o conteúdo presente no arquivo de teste\n",
    "        vertices = int(texto[0]) #Pega o primeiro elemento da lista acima, que correnspode ao número de vértices do grafo\n",
    "        arestas = [] #Lista vazia que vai conter todos os pares de arestas do grafo\n",
    "        for i in range(len(texto[1:])//3):\n",
    "            arestas += [[int(texto[3*i+1])]+[int(texto[3*i+2])]+ [float(texto[3*i+3])]] #Atualiza a lista de arestas, criando sublistas com os pares de arestas\n",
    "\n",
    "print(arestas)\n",
    "\n",
    "#arquivo_saida = open('Resultados.txt', 'a') #Cria um arquivo de saída que guardará informações sobre os grafos"
   ]
  },
  {
   "cell_type": "code",
   "execution_count": 5,
   "metadata": {},
   "outputs": [],
   "source": [
    "import numpy as np\n",
    "\n",
    "class Graph_l:   \n",
    "    def __init__(self, v, a): #(número de vértices, arestas)\n",
    "        self.aqruivo_saida = [] #Lista que vai receber os resultados desejados\n",
    "        self.v = v\n",
    "        self.a = a\n",
    "        self.num_arestas = len(self.a) \n",
    "        self.neg = False\n",
    "        self.lista = [[] for i in range(self.v)] #Não sabemos quantos elementos tem em cada linha (quantos vizinhos cada vértice tem)\n",
    "        self.pesos = [[] for i in range(self.v)]  #lista que contém apenas os pesos \n",
    "        g = np.zeros(self.v,dtype=int) #Vetor de zeros, onde vamos guardar o grau de cada vértice\n",
    "        for i in range(self.num_arestas):\n",
    "            u=self.a[i][0] #Pega o primeiro vértice do par de arestas\n",
    "            v= self.a[i][1] #Pega o segundo vértice do par de arestas\n",
    "            p= self.a[i][2] #Pega o peso da aresta\n",
    "            if p < 0: self.neg = True\n",
    "            self.lista[u-1]+= [(v,p)] #Adiciona o vértice v na linha u (o índice é u-1, pois i se inicia no 0)\n",
    "            self.lista[v-1]+= [(u, p)] #Adiciona o vértice u na linha v\n",
    "            self.pesos[u-1]+= [p]\n",
    "            self.pesos[v-1] += [p]\n",
    "            g [u-1] += 1  #Atualiza os graus \n",
    "            g [v-1] += 1\n",
    "        self.graus = g\n",
    "\n",
    "\n",
    "    def mostra_lista(self): #Retorna a lista de adjacência\n",
    "        return self.lista \n",
    "    \n",
    "    def Dijkstra(self,vi, p):\n",
    "        if self.neg == True:\n",
    "            d = 'Não é possível'\n",
    "            if p ==1: \n",
    "                print(f'\\nDijkstra a partir de {v1} : d ')\n",
    "        else:  \n",
    "            pai = np.array([-1] * self.v, dtype = int) #inicia vetor com os pais\n",
    "            nivel = np.array([-1] * self.v, dtype = int) #inicia vetor dos níveis\n",
    "            S = np.zeros(self.v) #Definir S como vazio\n",
    "            len_S = 0 #variável auxiliar para não ter que verificar a cada iteração a lista S\n",
    "            dist = np.full(self.v, np.inf) #distâncias começam infinitas\n",
    "            dist_aux = np.full(self.v, np.inf)\n",
    "            dist_aux[vi-1]=0 \n",
    "            pai [vi-1] = 0\n",
    "            nivel [vi-1] = 0 \n",
    "            while len_S != self.v : #Enquanto S != V\n",
    "                p_u = np.min(dist_aux) #Selecione u em V-S, tal que dist[u] é mínima\n",
    "                u = np.argmin(dist_aux) #u que tem a distância mínima\n",
    "                if p_u == np.inf :   #grafo não é conexo\n",
    "                    break\n",
    "                dist[u]=dist_aux[u]\n",
    "                dist_aux[u]= np.inf  #usado para que não alteremos mais a distância de quem já foi adicionado a S\n",
    "                S[u]= 1 #Adicione u em S\n",
    "                len_S += 1 \n",
    "                for viz in range(len(self.lista[u])): #Para cada vizinho de u faça\n",
    "                    v = self.lista[u][viz][0]\n",
    "                    if S[v-1] ==0: \n",
    "                        if dist_aux[v-1] > dist[u] + self.lista[u][viz][1] :  #Se dist[v] > dist[u] + w(u,v) então\n",
    "                            dist_aux[v-1] = dist[u] + self.lista[u][viz][1] #dist[v] = dist[u] + w(u,v)\n",
    "                            pai[v-1] = u+1\n",
    "                            nivel[v-1] = nivel[u] + 1\n",
    "            d = [dist, pai, nivel]\n",
    "            if p ==1: \n",
    "                print(f'\\nDijkstra a partir de {v1} : {d[0]}, árvore (pais): {d[1]}, árvore(níveis): {d[2]} ')\n",
    "        return d\n",
    "        \n",
    "               \n",
    "    def caminho(self,v1,v2,p): #v1 é o vértice de partida, v2 o de chegada e p é para imprimir \n",
    "        pais = self.Dijkstra(v2, 0)[1]  #fazemos a árvore a partir de v2, para ir encontrando os pais de v1 até chegar em v2\n",
    "        caminho = [v1] #caminho começa já com o vétice de partida\n",
    "        v= v1  #começamos em v1\n",
    "        if self.Dijkstra(v2, 0)[2][v1-1] == -1: \n",
    "            caminho = \"Não há caminho, v2 e v1 não estão na mesma cc\"\n",
    "        else:\n",
    "            while v != v2: #enquanto vértice analisado não for vértice destino \n",
    "                v = pais [v-1]  #próximo vértice do caminho é o pai do que último adicionado  \n",
    "                caminho.append(v)   #adicionamos esse pai ao caminho\n",
    "        if p==1:\n",
    "            print(f'\\nCaminho entre  {v1} e {v2}: {caminho} ')\n",
    "        return caminho \n",
    "    \n",
    "    def mostra_dj (self,vi):\n",
    "        return self.Dijkstra(vi,0)\n",
    "    \n",
    "    def distancia(self, v1, v2, p): #Retorna a distâncoa entre dois vértices\n",
    "        D= self.Dijkstra(v1, 0)[0][v2-1]\n",
    "        if p ==1:\n",
    "            print (D)\n",
    "        return D\n",
    "\n"
   ]
  },
  {
   "cell_type": "code",
   "execution_count": 120,
   "metadata": {},
   "outputs": [
    {
     "data": {
      "text/plain": [
       "[[(2, 1.0), (4, 4.0), (5, 2.0)],\n",
       " [(1, 1.0), (3, 4.0), (4, 2.0)],\n",
       " [(2, 4.0), (4, 1.0), (7, 2.0)],\n",
       " [(1, 4.0), (2, 2.0), (3, 1.0), (5, 2.0), (6, 2.0)],\n",
       " [(1, 2.0), (4, 2.0), (6, 3.0)],\n",
       " [(4, 2.0), (5, 3.0), (7, 3.0)],\n",
       " [(3, 2.0), (6, 3.0)],\n",
       " []]"
      ]
     },
     "execution_count": 120,
     "metadata": {},
     "output_type": "execute_result"
    }
   ],
   "source": [
    "Graph_l(vertices, arestas).mostra_lista()"
   ]
  },
  {
   "cell_type": "code",
   "execution_count": 5,
   "metadata": {},
   "outputs": [
    {
     "name": "stdout",
     "output_type": "stream",
     "text": [
      "3.0\n"
     ]
    },
    {
     "data": {
      "text/plain": [
       "'Não há caminho, v2 e v1 não estão na mesma cc'"
      ]
     },
     "execution_count": 5,
     "metadata": {},
     "output_type": "execute_result"
    }
   ],
   "source": [
    "Graph_l(vertices, arestas).mostra_dj(1)\n",
    "\n",
    "Graph_l(vertices, arestas).distancia(1,4,0)\n",
    "Graph_l(vertices, arestas).caminho(1,8,0)"
   ]
  },
  {
   "cell_type": "code",
   "execution_count": 3,
   "metadata": {},
   "outputs": [
    {
     "name": "stdout",
     "output_type": "stream",
     "text": [
      "2.3800000000000003\n",
      "1.7200000000000002\n",
      "2.0500000000000003\n",
      "1.2000000000000002\n",
      "1.6600000000000001\n"
     ]
    }
   ],
   "source": [
    "Graph_l(vertices, arestas).distancia(10,20,1)\n",
    "Graph_l(vertices, arestas).distancia(10,30,1)\n",
    "Graph_l(vertices, arestas).distancia(10,40,1)\n",
    "Graph_l(vertices, arestas).distancia(10,50,1)\n",
    "Graph_l(vertices, arestas).distancia(10,60,1)"
   ]
  }
 ],
 "metadata": {
  "kernelspec": {
   "display_name": "Python 3",
   "language": "python",
   "name": "python3"
  },
  "language_info": {
   "codemirror_mode": {
    "name": "ipython",
    "version": 3
   },
   "file_extension": ".py",
   "mimetype": "text/x-python",
   "name": "python",
   "nbconvert_exporter": "python",
   "pygments_lexer": "ipython3",
   "version": "3.10.11"
  },
  "orig_nbformat": 4
 },
 "nbformat": 4,
 "nbformat_minor": 2
}
